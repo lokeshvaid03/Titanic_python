{
 "cells": [
  {
   "cell_type": "code",
   "execution_count": 3,
   "id": "739d747c",
   "metadata": {},
   "outputs": [
    {
     "name": "stdout",
     "output_type": "stream",
     "text": [
      "The algo is on epoch no :  999\r"
     ]
    },
    {
     "data": {
      "text/plain": [
       "0.595"
      ]
     },
     "execution_count": 3,
     "metadata": {},
     "output_type": "execute_result"
    },
    {
     "data": {
      "image/png": "[encoded data removed]",
      "text/plain": [
       "<Figure size 432x288 with 1 Axes>"
      ]
     },
     "metadata": {
      "needs_background": "light"
     },
     "output_type": "display_data"
    }
   ],
   "source": [
    "import numpy as np\n",
    "import pandas as pd\n",
    "import matplotlib.pyplot as plt \n",
    "\n",
    "np.random.seed(0)\n",
    "n_samples = 1000\n",
    "\n",
    "age = np.random.randint(1, 91, size=n_samples)\n",
    "gender = np.random.randint(0, 2, size=n_samples)\n",
    "pclass = np.random.randint(1, 4, size=n_samples)\n",
    "\n",
    "survival_chance = (gender * 0.8 + pclass * 0.1) / 2\n",
    "survived = np.random.binomial(1, survival_chance)\n",
    "\n",
    "survived\n",
    "\n",
    "data = pd.DataFrame({'X0': np.ones(n_samples), 'Age': age, 'Gender': gender, 'Pclass': pclass, 'Survived': survived})\n",
    "\n",
    "X = data[['X0', 'Age', 'Gender', 'Pclass']].values \n",
    "y = data['Survived'].values.reshape(-1, 1) \n",
    "\n",
    "X_train, X_test = X[:int(0.8 * n_samples)], X[int(0.8 * n_samples):]\n",
    "y_train, y_test = y[:int(0.8 * n_samples)], y[int(0.8 * n_samples):]\n",
    "\n",
    "def sigmoid(x):\n",
    "    return 1 / (1 + np.exp(-x))\n",
    "\n",
    "def hypothesis(X, theta):\n",
    "    return sigmoid(np.dot(X, theta))\n",
    "def cost(X, Y, theta):\n",
    "    y_p = hypothesis(X, theta)\n",
    "    loss = -1 * (np.mean(Y * np.log(y_p) + (1 - Y) * np.log(1 - y_p)))\n",
    "    return loss\n",
    "def gradient(X, Y, theta):\n",
    "    y_p = hypothesis(X, theta)\n",
    "    grad = np.dot(X.T , (Y - y_p))\n",
    "    return grad / X.shape[0]\n",
    "\n",
    "def gradient_descent(X, Y, learning_rate=0.3, epochs=100):\n",
    "    m, n = X.shape\n",
    "    theta = np.zeros((n, 1))\n",
    "    cost_epoch = []\n",
    "    for i in range(epochs):\n",
    "        print('The algo is on epoch no : ',i, end = '\\r')\n",
    "        loss = cost(X, Y, theta)\n",
    "        grad = gradient(X, Y, theta)\n",
    "        cost_epoch.append(loss)\n",
    "        theta = theta + learning_rate * grad\n",
    "    return theta, cost_epoch\n",
    "\n",
    "theta, cost_history = gradient_descent(X_train, y_train, learning_rate=0.003, epochs=1000)\n",
    "\n",
    "theta\n",
    "\n",
    "plt.plot(cost_history)\n",
    "\n",
    "def predict(X, theta):\n",
    "    y_p = hypothesis(X, theta)\n",
    "    return (y_p >= 0.5).astype(int)\n",
    "\n",
    "y_pred = predict(X_test, theta)\n",
    "\n",
    "y_pred\n",
    "\n",
    "accuracy = np.mean(y_pred == y_test)\n",
    "\n",
    "accuracy\n",
    "\n",
    "\n"
   ]
  },
  {
   "cell_type": "code",
   "execution_count": null,
   "id": "c9d9ce6e",
   "metadata": {},
   "outputs": [],
   "source": []
  }
 ],
 "metadata": {
  "kernelspec": {
   "display_name": "Python 3 (ipykernel)",
   "language": "python",
   "name": "python3"
  },
  "language_info": {
   "codemirror_mode": {
    "name": "ipython",
    "version": 3
   },
   "file_extension": ".py",
   "mimetype": "text/x-python",
   "name": "python",
   "nbconvert_exporter": "python",
   "pygments_lexer": "ipython3",
   "version": "3.9.12"
  }
 },
 "nbformat": 4,
 "nbformat_minor": 5
}
